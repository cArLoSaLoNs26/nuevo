{
 "cells": [
  {
   "cell_type": "code",
   "execution_count": 3,
   "id": "26f4de32-4162-48c7-bb5a-4b0fcf0b85ed",
   "metadata": {},
   "outputs": [
    {
     "name": "stdout",
     "output_type": "stream",
     "text": [
      "valor1\n",
      "valor2\n",
      "valor3\n",
      "valor4\n",
      "valor5\n"
     ]
    }
   ],
   "source": [
    "#Ejemplo de diccionario con 5 claves y valores\n",
    "def diccionario():\n",
    "    mi_diccionario={\"clave1\": \"valor1\",\"clave2\": \"valor2\",\"clave3\": \"valor3\",\"clave4\": \"valor4\",\"clave5\": \"valor5\"}\n",
    "    return mi_diccionario\n",
    "\n",
    "\n",
    "# Acceder a cada uno de los valores utilizando las claves\n",
    "def main():\n",
    "    mi_dic = diccionario()\n",
    "    print(mi_dic[\"clave1\"])  # Imprime \"valor1\"\n",
    "    print(mi_dic[\"clave2\"])  # Imprime \"valor2\"\n",
    "    print(mi_dic[\"clave3\"])  # Imprime \"valor3\"\n",
    "    print(mi_dic[\"clave4\"])  # Imprime \"valor4\"\n",
    "    print(mi_dic[\"clave5\"])  # Imprime \"valor5\"\n",
    "\n",
    "main()"
   ]
  },
  {
   "cell_type": "code",
   "execution_count": 5,
   "id": "b9df97fe-3062-49a2-af9c-89c984694348",
   "metadata": {},
   "outputs": [
    {
     "name": "stdout",
     "output_type": "stream",
     "text": [
      "Total \tSimulada\tEsperada\n",
      "           Porciento\tPorciento\n",
      "    2        3.20     2.78\n",
      "    3        5.20     5.56\n",
      "    4        9.20     8.33\n",
      "    5       11.30    11.11\n",
      "    6       13.60    13.89\n",
      "    7       14.40    16.67\n",
      "    8       13.70    13.89\n",
      "    9       12.00    11.11\n",
      "   10        8.50     8.33\n",
      "   11        5.80     5.56\n",
      "   12        3.10     2.78\n",
      "\n",
      "Búsqueda Inversa:\n",
      "La palabra francesa para 'gracias' es: []\n",
      "La palabra francesa para 'adiós' es: ['adiós']\n",
      "La palabra francesa para 'que es esto?' es: []\n",
      "\n",
      "Anagramas:\n"
     ]
    },
    {
     "name": "stdin",
     "output_type": "stream",
     "text": [
      "Enter the first string:  355\n",
      "Enter the second string:  3555\n"
     ]
    },
    {
     "name": "stdout",
     "output_type": "stream",
     "text": [
      "Those strings are not anagrams\n",
      "\n",
      "Scrabble:\n"
     ]
    },
    {
     "name": "stdin",
     "output_type": "stream",
     "text": [
      "Enter a word:  g\n"
     ]
    },
    {
     "name": "stdout",
     "output_type": "stream",
     "text": [
      "g is worth 2 points\n",
      "\n",
      "Bingo:\n",
      "B  I  N  G  O\n",
      " 9 23 31 47 68 \n",
      "11 16 41 58 67 \n",
      " 6 18 45 54 61 \n",
      " 7 24 36 57 73 \n",
      " 2 17 44 50 70 \n"
     ]
    }
   ],
   "source": [
    "from random import randrange\n",
    "\n",
    "def lanzar_dados():\n",
    "    d1 = randrange(1, 7)\n",
    "    d2 = randrange(1, 7)\n",
    "    return d1 + d2\n",
    "\n",
    "\n",
    "def main_dados():\n",
    "    esperado = {2: 1/36, 3: 2/36, 4: 3/36, 5: 4/36, 6: 5/36, 7: 6/36, 8: 5/36, 9: 4/36, 10: 3/36, 11: 2/36, 12: 1/36}\n",
    "    ocurrencias = {2: 0, 3: 0, 4: 0, 5: 0, 6: 0, 7: 0, 8: 0, 9: 0, 10: 0, 11: 0, 12: 0}\n",
    "    NUM_TIROS = 1000\n",
    "\n",
    "    for i in range(NUM_TIROS):\n",
    "        suma = lanzar_dados()\n",
    "        ocurrencias[suma] = ocurrencias[suma] + 1\n",
    "\n",
    "    print(\"Total \\tSimulada\\tEsperada\")\n",
    "    print(\"           Porciento\\tPorciento\")\n",
    "    for i in sorted(ocurrencias.keys()):\n",
    "        print(\"%5d %11.2f %8.2f\" % (i, ocurrencias[i] / NUM_TIROS * 100, esperado[i] * 100))\n",
    "\n",
    "def busqueda_inversa(diccionario, valor):\n",
    "    claves = []\n",
    "    for clave in diccionario:\n",
    "        if diccionario[clave] == valor:\n",
    "            claves.append(clave)\n",
    "    return claves\n",
    "\n",
    "def main_busqueda():\n",
    "    diccionario = {'hola': 'salut', 'adiós': 'au revoir', 'gracias': 'merci', 'perdón': 'pardon, excusez-moi', 'libro': 'livre'}\n",
    "    print(\"La palabra francesa para 'gracias' es:\", busqueda_inversa(diccionario, 'perdón'))\n",
    "    print(\"La palabra francesa para 'adiós' es:\", busqueda_inversa(diccionario, 'au revoir'))\n",
    "    print(\"La palabra francesa para 'que es esto?' es:\", busqueda_inversa(diccionario, 'que es esto?'))\n",
    "\n",
    "def charactersCounts(s):\n",
    "    counts = {}\n",
    "    for c in s:\n",
    "        counts[c] = counts.get(c, 0) + 1\n",
    "    return counts\n",
    "\n",
    "def main_anagramas():\n",
    "    s1 = input(\"Enter the first string: \")\n",
    "    s2 = input(\"Enter the second string: \")\n",
    "    if charactersCounts(s1) == charactersCounts(s2):\n",
    "        print(\"Those strings are anagrams\")\n",
    "    else:\n",
    "        print(\"Those strings are not anagrams\")\n",
    "\n",
    "def main_scrabble():\n",
    "    points = { \"A\": 1, \"B\": 3, \"C\": 3, \"D\": 2, \"E\": 1, \"F\": 4, \"G\": 2, \"H\": 4, \"I\": 1, \"J\":2, \"K\":5, \"L\":1, \"M\":3, \"N\":1, \"O\":1, \"P\":3, \"Q\":10, \"R\":1, \"S\":1, \"T\":1, \"U\":1, \"V\":4,\"W\":4, \"X\":8, \"Y\":4, \"Z\":10 }\n",
    "    word = input(\"Enter a word: \")\n",
    "    uppercase = word.upper()\n",
    "    score = sum(points.get(ch, 0) for ch in uppercase)\n",
    "    print(word, \"is worth\", score, \"points\")\n",
    "\n",
    "def createCard():\n",
    "    card = {}\n",
    "    lower = 1\n",
    "    for letter in [\"B\", \"I\", \"N\", \"G\", \"O\"]:\n",
    "        card[letter] = []\n",
    "        upper = lower + 15\n",
    "        while len(card[letter]) < 5:\n",
    "            num = randrange(lower, upper)\n",
    "            if num not in card[letter]:\n",
    "                card[letter].append(num)\n",
    "        lower = upper\n",
    "    return card\n",
    "\n",
    "def displayCard(card):\n",
    "    print(\"B  I  N  G  O\")\n",
    "    for i in range(5):\n",
    "        for letter in [\"B\", \"I\", \"N\", \"G\", \"O\"]:\n",
    "            print(\"%2d\" % card[letter][i], end=\" \")\n",
    "        print()\n",
    "\n",
    "def main_bingo():\n",
    "    card = createCard()\n",
    "    displayCard(card)\n",
    "\n",
    "def main():\n",
    "    main_dados()\n",
    "    print(\"\\nBúsqueda Inversa:\")\n",
    "    main_busqueda()\n",
    "    print(\"\\nAnagramas:\")\n",
    "    main_anagramas()\n",
    "    print(\"\\nScrabble:\")\n",
    "    main_scrabble()\n",
    "    print(\"\\nBingo:\")\n",
    "    main_bingo()\n",
    "\n",
    "if __name__ == '__main__':\n",
    "    main()"
   ]
  },
  {
   "cell_type": "code",
   "execution_count": 4,
   "id": "fc1227e0-f916-4ba1-98c8-f45b686ddc33",
   "metadata": {},
   "outputs": [
    {
     "name": "stdout",
     "output_type": "stream",
     "text": [
      "Este es d1 4\n",
      "Este es d2 4\n",
      "Este es d1 3\n",
      "Este es d2 2\n",
      "5\n"
     ]
    }
   ],
   "source": [
    "from random import randrange\n",
    "\n",
    "def lanzar_dados(n, p):\n",
    "    d1 = randrange(n, p)\n",
    "    print(\"Este es d1\", d1)\n",
    "    d2 = randrange(n, p)\n",
    "    print(\"Este es d2\", d2)\n",
    "    return d1 + d2\n",
    "\n",
    "def main():\n",
    "    n = 1\n",
    "    p = 7\n",
    "    lanzar_dados(n, p)\n",
    "    print(lanzar_dados(n, p))\n",
    "main()"
   ]
  },
  {
   "cell_type": "code",
   "execution_count": null,
   "id": "46d3e616-2608-465a-83c1-2c37ccd5834f",
   "metadata": {},
   "outputs": [],
   "source": [
    "\n",
    "def main_dados():\n",
    "    esperado = {2: 1/36, 3: 2/36, 4: 3/36, 5: 4/36, 6: 5/36, 7: 6/36, 8: 5/36, 9: 4/36, 10: 3/36, 11: 2/36, 12: 1/36}\n",
    "    ocurrencias = {2: 0, 3: 0, 4: 0, 5: 0, 6: 0, 7: 0, 8: 0, 9: 0, 10: 0, 11: 0, 12: 0}\n",
    "    NUM_TIROS = 1000\n",
    "    for i in range(NUM_TIROS):\n",
    "        suma = lanzar_dados()\n",
    "        ocurrencias[suma] = ocurrencias[suma] + 1\n",
    "\n",
    "    print(\"Total \\tSimulada\\tEsperada\")\n",
    "    print(\"           Porciento\\tPorciento\")\n",
    "    for i in sorted(ocurrencias.keys()):\n",
    "        print(\"%5d %11.2f %8.2f\" % (i, ocurrencias[i] / NUM_TIROS * 100, esperado[i] * 100))\n",
    "\n",
    "\n",
    "def main():\n",
    "    "
   ]
  }
 ],
 "metadata": {
  "kernelspec": {
   "display_name": "Python 3 (ipykernel)",
   "language": "python",
   "name": "python3"
  },
  "language_info": {
   "codemirror_mode": {
    "name": "ipython",
    "version": 3
   },
   "file_extension": ".py",
   "mimetype": "text/x-python",
   "name": "python",
   "nbconvert_exporter": "python",
   "pygments_lexer": "ipython3",
   "version": "3.10.12"
  }
 },
 "nbformat": 4,
 "nbformat_minor": 5
}
